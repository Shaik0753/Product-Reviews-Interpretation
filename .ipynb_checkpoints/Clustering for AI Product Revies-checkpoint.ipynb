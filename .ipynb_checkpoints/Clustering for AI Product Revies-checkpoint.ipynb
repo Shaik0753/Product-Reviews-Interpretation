{
 "cells": [
  {
   "cell_type": "code",
   "execution_count": 15,
   "id": "20b2104d",
   "metadata": {},
   "outputs": [],
   "source": [
    "import pandas as pd\n",
    "import nltk\n",
    "from nltk.corpus import stopwords \n",
    "import re"
   ]
  },
  {
   "cell_type": "markdown",
   "id": "eed4245e",
   "metadata": {},
   "source": [
    "## Data Cleaning\n",
    "       We will be performing the following cleaning Steps <br>\n",
    "       1.drop NA <br>\n",
    "       2.Remove Puntuations <br>\n",
    "       3.Remove Stopwords <br>\n",
    "       4.we will also do Stemming and Lemmitization based on the performance<br>\n",
    "       5.As observed in this data set we have reviews that go like 'Review of canva' we will be dropping those as well"
   ]
  },
  {
   "cell_type": "code",
   "execution_count": 2,
   "id": "fb96e320",
   "metadata": {},
   "outputs": [],
   "source": [
    "df = pd.read_excel('Geenrative AI products.xlsx')\n",
    "df2 = pd.read_excel('producthunt-list-review.xlsx')"
   ]
  },
  {
   "cell_type": "code",
   "execution_count": 3,
   "id": "e89abaa4",
   "metadata": {},
   "outputs": [
    {
     "name": "stdout",
     "output_type": "stream",
     "text": [
      "Length of df1 351 ---- Length of df2 3875\n"
     ]
    }
   ],
   "source": [
    "print(f\"Length of df1 {len(df)} ---- Length of df2 {len(df2)}\")"
   ]
  },
  {
   "cell_type": "code",
   "execution_count": 4,
   "id": "56480791",
   "metadata": {},
   "outputs": [
    {
     "data": {
      "text/html": [
       "<div>\n",
       "<style scoped>\n",
       "    .dataframe tbody tr th:only-of-type {\n",
       "        vertical-align: middle;\n",
       "    }\n",
       "\n",
       "    .dataframe tbody tr th {\n",
       "        vertical-align: top;\n",
       "    }\n",
       "\n",
       "    .dataframe thead th {\n",
       "        text-align: right;\n",
       "    }\n",
       "</style>\n",
       "<table border=\"1\" class=\"dataframe\">\n",
       "  <thead>\n",
       "    <tr style=\"text-align: right;\">\n",
       "      <th></th>\n",
       "      <th>Product</th>\n",
       "      <th>Reviewer</th>\n",
       "      <th>Comments</th>\n",
       "    </tr>\n",
       "  </thead>\n",
       "  <tbody>\n",
       "    <tr>\n",
       "      <th>0</th>\n",
       "      <td>ChatGPT</td>\n",
       "      <td>Lindsay Jones</td>\n",
       "      <td>Chat GPT is an incredibly useful tool that hel...</td>\n",
       "    </tr>\n",
       "    <tr>\n",
       "      <th>1</th>\n",
       "      <td>ChatGPT</td>\n",
       "      <td>Dina Shaw</td>\n",
       "      <td>It's like having your personal assistant that ...</td>\n",
       "    </tr>\n",
       "    <tr>\n",
       "      <th>2</th>\n",
       "      <td>ChatGPT</td>\n",
       "      <td>Keita Mitsuhashi</td>\n",
       "      <td>I tried tons of other AI products made for spe...</td>\n",
       "    </tr>\n",
       "    <tr>\n",
       "      <th>3</th>\n",
       "      <td>ChatGPT</td>\n",
       "      <td>Miguel Anticona</td>\n",
       "      <td>An excellent conversational AI to improve and ...</td>\n",
       "    </tr>\n",
       "    <tr>\n",
       "      <th>4</th>\n",
       "      <td>ChatGPT</td>\n",
       "      <td>Zafer Arıcan</td>\n",
       "      <td>In response to \"Which AI tools have you tried ...</td>\n",
       "    </tr>\n",
       "  </tbody>\n",
       "</table>\n",
       "</div>"
      ],
      "text/plain": [
       "   Product          Reviewer  \\\n",
       "0  ChatGPT     Lindsay Jones   \n",
       "1  ChatGPT         Dina Shaw   \n",
       "2  ChatGPT  Keita Mitsuhashi   \n",
       "3  ChatGPT   Miguel Anticona   \n",
       "4  ChatGPT      Zafer Arıcan   \n",
       "\n",
       "                                            Comments  \n",
       "0  Chat GPT is an incredibly useful tool that hel...  \n",
       "1  It's like having your personal assistant that ...  \n",
       "2  I tried tons of other AI products made for spe...  \n",
       "3  An excellent conversational AI to improve and ...  \n",
       "4  In response to \"Which AI tools have you tried ...  "
      ]
     },
     "execution_count": 4,
     "metadata": {},
     "output_type": "execute_result"
    }
   ],
   "source": [
    "df.head()"
   ]
  },
  {
   "cell_type": "code",
   "execution_count": 5,
   "id": "0cee2dcd",
   "metadata": {},
   "outputs": [
    {
     "data": {
      "text/html": [
       "<div>\n",
       "<style scoped>\n",
       "    .dataframe tbody tr th:only-of-type {\n",
       "        vertical-align: middle;\n",
       "    }\n",
       "\n",
       "    .dataframe tbody tr th {\n",
       "        vertical-align: top;\n",
       "    }\n",
       "\n",
       "    .dataframe thead th {\n",
       "        text-align: right;\n",
       "    }\n",
       "</style>\n",
       "<table border=\"1\" class=\"dataframe\">\n",
       "  <thead>\n",
       "    <tr style=\"text-align: right;\">\n",
       "      <th></th>\n",
       "      <th>Product</th>\n",
       "      <th>Reviewer</th>\n",
       "      <th>Comments</th>\n",
       "    </tr>\n",
       "  </thead>\n",
       "  <tbody>\n",
       "    <tr>\n",
       "      <th>0</th>\n",
       "      <td>GPTBots.AI</td>\n",
       "      <td>kai fu</td>\n",
       "      <td>I created a data analysis bot and it only took...</td>\n",
       "    </tr>\n",
       "    <tr>\n",
       "      <th>1</th>\n",
       "      <td>GPTBots.AI</td>\n",
       "      <td>方露</td>\n",
       "      <td>Simple work can be entrusted to GPTBots with c...</td>\n",
       "    </tr>\n",
       "    <tr>\n",
       "      <th>2</th>\n",
       "      <td>GPTBots.AI</td>\n",
       "      <td>Marshell He</td>\n",
       "      <td>amazing.... I really loved this. It is wonderf...</td>\n",
       "    </tr>\n",
       "    <tr>\n",
       "      <th>3</th>\n",
       "      <td>GPTBots.AI</td>\n",
       "      <td>hengliang</td>\n",
       "      <td>Very helpful, recommended, and better than usi...</td>\n",
       "    </tr>\n",
       "    <tr>\n",
       "      <th>4</th>\n",
       "      <td>GPTBots.AI</td>\n",
       "      <td>Liuying</td>\n",
       "      <td>Great product. AI is changing the world.</td>\n",
       "    </tr>\n",
       "  </tbody>\n",
       "</table>\n",
       "</div>"
      ],
      "text/plain": [
       "      Product     Reviewer                                           Comments\n",
       "0  GPTBots.AI       kai fu  I created a data analysis bot and it only took...\n",
       "1  GPTBots.AI           方露  Simple work can be entrusted to GPTBots with c...\n",
       "2  GPTBots.AI  Marshell He  amazing.... I really loved this. It is wonderf...\n",
       "3  GPTBots.AI    hengliang  Very helpful, recommended, and better than usi...\n",
       "4  GPTBots.AI      Liuying           Great product. AI is changing the world."
      ]
     },
     "execution_count": 5,
     "metadata": {},
     "output_type": "execute_result"
    }
   ],
   "source": [
    "df2.head()"
   ]
  },
  {
   "cell_type": "code",
   "execution_count": 6,
   "id": "7fa233bf",
   "metadata": {},
   "outputs": [
    {
     "name": "stdout",
     "output_type": "stream",
     "text": [
      "Number of unique Reviewers --- 3735\n"
     ]
    }
   ],
   "source": [
    "print(f\"Number of unique Reviewers --- {len(df2['Reviewer'].unique())}\")"
   ]
  },
  {
   "cell_type": "code",
   "execution_count": 7,
   "id": "889256e4",
   "metadata": {},
   "outputs": [
    {
     "name": "stdout",
     "output_type": "stream",
     "text": [
      "Number of Products  ---- 11\n",
      "Unique Products: \n",
      "GPTBots.AI\n",
      "Zeda.io\n",
      "Zipy\n",
      "Pitch N Hire Applicant Tracking Software\n",
      "Movie Deep Search by AI Keytalk\n",
      "ioni\n",
      "ChainGPT\n",
      "Venturefy.ai\n",
      "Emma AI\n",
      "TranscribeMe\n",
      "Canva\n"
     ]
    }
   ],
   "source": [
    "print(f\"Number of Products  ---- {len(df2['Product'].unique())}\")\n",
    "\n",
    "unique_products = [product for product in df2['Product'].unique()]\n",
    "nl = '\\n'\n",
    "print(f\"Unique Products: {nl}{nl.join(unique_products)}\")"
   ]
  },
  {
   "cell_type": "code",
   "execution_count": 8,
   "id": "76c169a8",
   "metadata": {},
   "outputs": [],
   "source": [
    "mainDF = pd.DataFrame(df2['Comments'])"
   ]
  },
  {
   "cell_type": "code",
   "execution_count": 9,
   "id": "d4552b90",
   "metadata": {},
   "outputs": [
    {
     "data": {
      "text/html": [
       "<div>\n",
       "<style scoped>\n",
       "    .dataframe tbody tr th:only-of-type {\n",
       "        vertical-align: middle;\n",
       "    }\n",
       "\n",
       "    .dataframe tbody tr th {\n",
       "        vertical-align: top;\n",
       "    }\n",
       "\n",
       "    .dataframe thead th {\n",
       "        text-align: right;\n",
       "    }\n",
       "</style>\n",
       "<table border=\"1\" class=\"dataframe\">\n",
       "  <thead>\n",
       "    <tr style=\"text-align: right;\">\n",
       "      <th></th>\n",
       "      <th>Comments</th>\n",
       "    </tr>\n",
       "  </thead>\n",
       "  <tbody>\n",
       "    <tr>\n",
       "      <th>0</th>\n",
       "      <td>I created a data analysis bot and it only took...</td>\n",
       "    </tr>\n",
       "    <tr>\n",
       "      <th>1</th>\n",
       "      <td>Simple work can be entrusted to GPTBots with c...</td>\n",
       "    </tr>\n",
       "    <tr>\n",
       "      <th>2</th>\n",
       "      <td>amazing.... I really loved this. It is wonderf...</td>\n",
       "    </tr>\n",
       "    <tr>\n",
       "      <th>3</th>\n",
       "      <td>Very helpful, recommended, and better than usi...</td>\n",
       "    </tr>\n",
       "    <tr>\n",
       "      <th>4</th>\n",
       "      <td>Great product. AI is changing the world.</td>\n",
       "    </tr>\n",
       "    <tr>\n",
       "      <th>...</th>\n",
       "      <td>...</td>\n",
       "    </tr>\n",
       "    <tr>\n",
       "      <th>3870</th>\n",
       "      <td>Review of Canva</td>\n",
       "    </tr>\n",
       "    <tr>\n",
       "      <th>3871</th>\n",
       "      <td>Review of Video Messages from Canva</td>\n",
       "    </tr>\n",
       "    <tr>\n",
       "      <th>3872</th>\n",
       "      <td>Review of Content Planner by Canva</td>\n",
       "    </tr>\n",
       "    <tr>\n",
       "      <th>3873</th>\n",
       "      <td>Review of Canva</td>\n",
       "    </tr>\n",
       "    <tr>\n",
       "      <th>3874</th>\n",
       "      <td>Review of Zoom Background Creator by Canva</td>\n",
       "    </tr>\n",
       "  </tbody>\n",
       "</table>\n",
       "<p>3875 rows × 1 columns</p>\n",
       "</div>"
      ],
      "text/plain": [
       "                                               Comments\n",
       "0     I created a data analysis bot and it only took...\n",
       "1     Simple work can be entrusted to GPTBots with c...\n",
       "2     amazing.... I really loved this. It is wonderf...\n",
       "3     Very helpful, recommended, and better than usi...\n",
       "4              Great product. AI is changing the world.\n",
       "...                                                 ...\n",
       "3870                                    Review of Canva\n",
       "3871                Review of Video Messages from Canva\n",
       "3872                 Review of Content Planner by Canva\n",
       "3873                                    Review of Canva\n",
       "3874         Review of Zoom Background Creator by Canva\n",
       "\n",
       "[3875 rows x 1 columns]"
      ]
     },
     "execution_count": 9,
     "metadata": {},
     "output_type": "execute_result"
    }
   ],
   "source": [
    "mainDF"
   ]
  },
  {
   "cell_type": "markdown",
   "id": "a212cf0b",
   "metadata": {},
   "source": [
    "#### Removing comments that starts with 'Review'\n",
    "    as this hold less significance in this analysis , goal of this analyis is exploring customer reviews - as the comments that start with word review are not actually reviews that hold almost value in this analysis as they are not actual customer reviwes in the first place"
   ]
  },
  {
   "cell_type": "code",
   "execution_count": 11,
   "id": "8980344a",
   "metadata": {},
   "outputs": [],
   "source": [
    "for index,row in mainDF.iterrows():\n",
    "    row = str(row['Comments']).split(' ')\n",
    "    if row[0] == 'Review':\n",
    "        mainDF.drop([index],inplace=True)"
   ]
  },
  {
   "cell_type": "markdown",
   "id": "a0becec1",
   "metadata": {},
   "source": [
    "#### Dropping Stopwords and puntuations"
   ]
  },
  {
   "cell_type": "code",
   "execution_count": 12,
   "id": "48d7e120",
   "metadata": {},
   "outputs": [],
   "source": [
    "stopWords = set(stopwords.words('english'))"
   ]
  },
  {
   "cell_type": "code",
   "execution_count": 18,
   "id": "add8ebc5",
   "metadata": {},
   "outputs": [
    {
     "data": {
      "text/html": [
       "<div>\n",
       "<style scoped>\n",
       "    .dataframe tbody tr th:only-of-type {\n",
       "        vertical-align: middle;\n",
       "    }\n",
       "\n",
       "    .dataframe tbody tr th {\n",
       "        vertical-align: top;\n",
       "    }\n",
       "\n",
       "    .dataframe thead th {\n",
       "        text-align: right;\n",
       "    }\n",
       "</style>\n",
       "<table border=\"1\" class=\"dataframe\">\n",
       "  <thead>\n",
       "    <tr style=\"text-align: right;\">\n",
       "      <th></th>\n",
       "      <th>Comments</th>\n",
       "    </tr>\n",
       "  </thead>\n",
       "  <tbody>\n",
       "    <tr>\n",
       "      <th>0</th>\n",
       "      <td>I created data analysis bot took half day set ...</td>\n",
       "    </tr>\n",
       "    <tr>\n",
       "      <th>1</th>\n",
       "      <td>Simple work entrusted GPTBots confidence great...</td>\n",
       "    </tr>\n",
       "    <tr>\n",
       "      <th>2</th>\n",
       "      <td>amazing I really loved It wonderful tool using...</td>\n",
       "    </tr>\n",
       "    <tr>\n",
       "      <th>3</th>\n",
       "      <td>Very helpful recommended better using ChatGPT ...</td>\n",
       "    </tr>\n",
       "    <tr>\n",
       "      <th>4</th>\n",
       "      <td>Great product AI changing world</td>\n",
       "    </tr>\n",
       "    <tr>\n",
       "      <th>...</th>\n",
       "      <td>...</td>\n",
       "    </tr>\n",
       "    <tr>\n",
       "      <th>3629</th>\n",
       "      <td>nan</td>\n",
       "    </tr>\n",
       "    <tr>\n",
       "      <th>3630</th>\n",
       "      <td>Its like PowerPoint After Effects baby\\n\\nTrul...</td>\n",
       "    </tr>\n",
       "    <tr>\n",
       "      <th>3631</th>\n",
       "      <td>Been enjoying using animation features canva c...</td>\n",
       "    </tr>\n",
       "    <tr>\n",
       "      <th>3632</th>\n",
       "      <td>I love canva For perfect product creating imag...</td>\n",
       "    </tr>\n",
       "    <tr>\n",
       "      <th>3633</th>\n",
       "      <td>In response Whats one productivity app NEVER dele</td>\n",
       "    </tr>\n",
       "  </tbody>\n",
       "</table>\n",
       "<p>3491 rows × 1 columns</p>\n",
       "</div>"
      ],
      "text/plain": [
       "                                               Comments\n",
       "0     I created data analysis bot took half day set ...\n",
       "1     Simple work entrusted GPTBots confidence great...\n",
       "2     amazing I really loved It wonderful tool using...\n",
       "3     Very helpful recommended better using ChatGPT ...\n",
       "4                       Great product AI changing world\n",
       "...                                                 ...\n",
       "3629                                                nan\n",
       "3630  Its like PowerPoint After Effects baby\\n\\nTrul...\n",
       "3631  Been enjoying using animation features canva c...\n",
       "3632  I love canva For perfect product creating imag...\n",
       "3633  In response Whats one productivity app NEVER dele\n",
       "\n",
       "[3491 rows x 1 columns]"
      ]
     },
     "execution_count": 18,
     "metadata": {},
     "output_type": "execute_result"
    }
   ],
   "source": [
    "for index,row in mainDF.iterrows():\n",
    "    row = str(row['Comments']).split(' ')\n",
    "    for p in row:\n",
    "        if p in stopWords:\n",
    "            row.remove(p)\n",
    "    sentence = ' '.join(row)\n",
    "    sentence = re.sub(r'[^\\w\\s\\n]', '', sentence)\n",
    "    mainDF['Comments'][index] = re.sub(r\"http\\S+\", \"\", text)\n",
    "\n",
    "mainDF"
   ]
  },
  {
   "cell_type": "code",
   "execution_count": null,
   "id": "0336e732",
   "metadata": {},
   "outputs": [],
   "source": [
    "\n",
    "# initialize the vectorizer\n",
    "vectorizer = TfidfVectorizer(sublinear_tf=True, min_df=5, max_df=0.95)\n",
    "# fit_transform applies TF-IDF to clean texts - we save the array of vectors in X\n",
    "X = vectorizer.fit_transform(mainDF['Comments'])"
   ]
  },
  {
   "cell_type": "code",
   "execution_count": null,
   "id": "553f7ebf",
   "metadata": {},
   "outputs": [],
   "source": []
  },
  {
   "cell_type": "code",
   "execution_count": null,
   "id": "202252cc",
   "metadata": {},
   "outputs": [],
   "source": []
  },
  {
   "cell_type": "code",
   "execution_count": null,
   "id": "a38cf91d",
   "metadata": {},
   "outputs": [],
   "source": []
  },
  {
   "cell_type": "code",
   "execution_count": null,
   "id": "b7620aad",
   "metadata": {},
   "outputs": [],
   "source": []
  }
 ],
 "metadata": {
  "kernelspec": {
   "display_name": "Python 3 (ipykernel)",
   "language": "python",
   "name": "python3"
  },
  "language_info": {
   "codemirror_mode": {
    "name": "ipython",
    "version": 3
   },
   "file_extension": ".py",
   "mimetype": "text/x-python",
   "name": "python",
   "nbconvert_exporter": "python",
   "pygments_lexer": "ipython3",
   "version": "3.11.5"
  }
 },
 "nbformat": 4,
 "nbformat_minor": 5
}
